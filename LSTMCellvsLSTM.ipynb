{
 "cells": [
  {
   "cell_type": "markdown",
   "metadata": {},
   "source": [
    "#### LSTM vs LSTMCell\n",
    "\n",
    "This notebook compares the implementations of LSTM and LSTMCell in pytorch. It also has an example of how to use a LSTM to \"manually\" iterate through time."
   ]
  },
  {
   "cell_type": "markdown",
   "metadata": {},
   "source": [
    "1.  LSTMCell vs LSTM (GPU Support)"
   ]
  },
  {
   "cell_type": "code",
   "execution_count": 1,
   "metadata": {},
   "outputs": [
    {
     "name": "stdout",
     "output_type": "stream",
     "text": [
      " step 0 , Input : torch.Size([3, 10])\n",
      " step 0 , hidden state : torch.Size([3, 20])\n",
      " step 0 , cell state : torch.Size([3, 20])\n",
      " step 1 , Input : torch.Size([3, 10])\n",
      " step 1 , hidden state : torch.Size([3, 20])\n",
      " step 1 , cell state : torch.Size([3, 20])\n",
      " \n",
      " Output LSTMCell: torch.Size([2, 3, 20])\n",
      " \n",
      " Output LSTMCell:\n",
      " tensor([[[ 0.2552, -0.1090, -0.0835,  0.2958, -0.4213, -0.0170,  0.2474,\n",
      "           0.1677, -0.3955, -0.1091,  0.2386, -0.0052,  0.3028,  0.2637,\n",
      "           0.0113, -0.3665, -0.0687, -0.0280, -0.3560,  0.0247],\n",
      "         [-0.0958, -0.0987,  0.3122, -0.1819, -0.0390, -0.3634,  0.1293,\n",
      "           0.2141, -0.5724, -0.1846, -0.3133, -0.1564, -0.0349,  0.2602,\n",
      "           0.3982, -0.3867,  0.3485,  0.0338, -0.2344,  0.0718],\n",
      "         [-0.1596,  0.0429,  0.3663, -0.0377,  0.1968, -0.2228, -0.0025,\n",
      "          -0.0077, -0.1359,  0.0810,  0.1197, -0.0336,  0.0129, -0.1988,\n",
      "          -0.2814,  0.2207, -0.0302, -0.1498, -0.3188, -0.0169]],\n",
      "\n",
      "        [[ 0.1216, -0.0640, -0.1142, -0.1368, -0.2694, -0.1684,  0.1206,\n",
      "           0.1096, -0.2894, -0.0532,  0.1241,  0.0037,  0.0609,  0.0435,\n",
      "          -0.0029,  0.0019, -0.0049, -0.0011, -0.2284, -0.0170],\n",
      "         [-0.1441,  0.0221,  0.1218, -0.1164,  0.0715, -0.1197,  0.0551,\n",
      "           0.0997, -0.3187, -0.0236, -0.1777, -0.2872, -0.1065,  0.4108,\n",
      "           0.1640, -0.2467,  0.3084, -0.0291, -0.2907,  0.0078],\n",
      "         [-0.2493, -0.0424,  0.1005,  0.0169,  0.2249, -0.1074,  0.0999,\n",
      "          -0.0094, -0.1216, -0.0834,  0.0590, -0.0979,  0.0496, -0.1381,\n",
      "          -0.3088, -0.0315,  0.0167, -0.2628, -0.1535,  0.0806]]],\n",
      "       grad_fn=<StackBackward>)\n"
     ]
    }
   ],
   "source": [
    "import torch.nn as nn\n",
    "import torch\n",
    "\n",
    "torch.manual_seed(12)\n",
    "\n",
    "# features 10, hidden size 20\n",
    "rnn = nn.LSTMCell(10, 20)\n",
    "# (time_steps, batch, input_size)\n",
    "input = torch.randn(2, 3, 10)\n",
    "# (batch, hidden_size)\n",
    "hx = torch.randn(3, 20)\n",
    "# (batch, hidden_size)\n",
    "cx = torch.randn(3, 20)\n",
    "# list to save outputs each time step\n",
    "output = []\n",
    "for i in range(input.size()[0]):\n",
    "        print(f\" step {i} , Input : {input[i].shape}\")\n",
    "        print(f\" step {i} , hidden state : {hx.shape}\")\n",
    "        print(f\" step {i} , cell state : {cx.shape}\")\n",
    "\n",
    "        hx, cx = rnn(input[i], (hx, cx))\n",
    "        output.append(hx)       \n",
    "\n",
    "output  = torch.stack(output, dim = 0)\n",
    "\n",
    "print(f\" \\n Output LSTMCell: {output.shape}\")\n",
    "print(f\" \\n Output LSTMCell:\\n {output}\")"
   ]
  },
  {
   "cell_type": "code",
   "execution_count": 2,
   "metadata": {},
   "outputs": [
    {
     "name": "stdout",
     "output_type": "stream",
     "text": [
      " \n",
      " Output : torch.Size([2, 3, 20])\n",
      " \n",
      " hidden state : torch.Size([1, 3, 20])\n",
      " \n",
      " cell state : torch.Size([1, 3, 20])\n",
      " \n",
      " Output LSTM:\n",
      " tensor([[[ 0.2552, -0.1090, -0.0835,  0.2958, -0.4213, -0.0170,  0.2474,\n",
      "           0.1677, -0.3955, -0.1091,  0.2386, -0.0052,  0.3028,  0.2637,\n",
      "           0.0113, -0.3665, -0.0687, -0.0280, -0.3560,  0.0247],\n",
      "         [-0.0958, -0.0987,  0.3122, -0.1819, -0.0390, -0.3634,  0.1293,\n",
      "           0.2141, -0.5724, -0.1846, -0.3133, -0.1564, -0.0349,  0.2602,\n",
      "           0.3982, -0.3867,  0.3485,  0.0338, -0.2344,  0.0718],\n",
      "         [-0.1596,  0.0429,  0.3663, -0.0377,  0.1968, -0.2228, -0.0025,\n",
      "          -0.0077, -0.1359,  0.0810,  0.1197, -0.0336,  0.0129, -0.1988,\n",
      "          -0.2814,  0.2207, -0.0302, -0.1498, -0.3188, -0.0169]],\n",
      "\n",
      "        [[ 0.1216, -0.0640, -0.1142, -0.1368, -0.2694, -0.1684,  0.1206,\n",
      "           0.1096, -0.2894, -0.0532,  0.1241,  0.0037,  0.0609,  0.0435,\n",
      "          -0.0029,  0.0019, -0.0049, -0.0011, -0.2284, -0.0170],\n",
      "         [-0.1441,  0.0221,  0.1218, -0.1164,  0.0715, -0.1197,  0.0551,\n",
      "           0.0997, -0.3187, -0.0236, -0.1777, -0.2872, -0.1065,  0.4108,\n",
      "           0.1640, -0.2467,  0.3084, -0.0291, -0.2907,  0.0078],\n",
      "         [-0.2493, -0.0424,  0.1005,  0.0169,  0.2249, -0.1074,  0.0999,\n",
      "          -0.0094, -0.1216, -0.0834,  0.0590, -0.0979,  0.0496, -0.1381,\n",
      "          -0.3088, -0.0315,  0.0167, -0.2628, -0.1535,  0.0806]]],\n",
      "       grad_fn=<StackBackward>)\n"
     ]
    }
   ],
   "source": [
    "torch.manual_seed(12)\n",
    "\n",
    "# (input_size, hidden_size, layers)\n",
    "rnn = nn.LSTM(10, 20, 1)\n",
    "# (seq_len, batch, input_size)\n",
    "input = torch.randn(2, 3, 10)\n",
    "# (num_layers, batch, hidden_size)\n",
    "h0 = torch.randn(1, 3, 20)\n",
    "c0 = torch.randn(1, 3, 20)\n",
    "output, (hn, cn) = rnn(input, (h0, c0))\n",
    "\n",
    "print(f\" \\n Output : {output.shape}\")\n",
    "print(f\" \\n hidden state : {hn.shape}\")\n",
    "print(f\" \\n cell state : {cn.shape}\")\n",
    "print(f\" \\n Output LSTM:\\n {output}\")\n"
   ]
  },
  {
   "cell_type": "markdown",
   "metadata": {},
   "source": [
    "2. Using LSTM like an LSTMCell (loop through time)"
   ]
  },
  {
   "cell_type": "code",
   "execution_count": 3,
   "metadata": {},
   "outputs": [
    {
     "name": "stdout",
     "output_type": "stream",
     "text": [
      " \n",
      " step 0 , Input : torch.Size([1, 3, 10])\n",
      " step 0 , hidden state : torch.Size([1, 3, 20])\n",
      " step 0 , cell state : torch.Size([1, 3, 20])\n",
      " \n",
      " step 1 , Input : torch.Size([1, 3, 10])\n",
      " step 1 , hidden state : torch.Size([1, 3, 20])\n",
      " step 1 , cell state : torch.Size([1, 3, 20])\n",
      " \n",
      " Output LSTM: \n",
      " tensor([[[[ 0.2552, -0.1090, -0.0835,  0.2958, -0.4213, -0.0170,  0.2474,\n",
      "            0.1677, -0.3955, -0.1091,  0.2386, -0.0052,  0.3028,  0.2637,\n",
      "            0.0113, -0.3665, -0.0687, -0.0280, -0.3560,  0.0247],\n",
      "          [-0.0958, -0.0987,  0.3122, -0.1819, -0.0390, -0.3634,  0.1293,\n",
      "            0.2141, -0.5724, -0.1846, -0.3133, -0.1564, -0.0349,  0.2602,\n",
      "            0.3982, -0.3867,  0.3485,  0.0338, -0.2344,  0.0718],\n",
      "          [-0.1596,  0.0429,  0.3663, -0.0377,  0.1968, -0.2228, -0.0025,\n",
      "           -0.0077, -0.1359,  0.0810,  0.1197, -0.0336,  0.0129, -0.1988,\n",
      "           -0.2814,  0.2207, -0.0302, -0.1498, -0.3188, -0.0169]]],\n",
      "\n",
      "\n",
      "        [[[ 0.1216, -0.0640, -0.1142, -0.1368, -0.2694, -0.1684,  0.1206,\n",
      "            0.1096, -0.2894, -0.0532,  0.1241,  0.0037,  0.0609,  0.0435,\n",
      "           -0.0029,  0.0019, -0.0049, -0.0011, -0.2284, -0.0170],\n",
      "          [-0.1441,  0.0221,  0.1218, -0.1164,  0.0715, -0.1197,  0.0551,\n",
      "            0.0997, -0.3187, -0.0236, -0.1777, -0.2872, -0.1065,  0.4108,\n",
      "            0.1640, -0.2467,  0.3084, -0.0291, -0.2907,  0.0078],\n",
      "          [-0.2493, -0.0424,  0.1005,  0.0169,  0.2249, -0.1074,  0.0999,\n",
      "           -0.0094, -0.1216, -0.0834,  0.0590, -0.0979,  0.0496, -0.1381,\n",
      "           -0.3088, -0.0315,  0.0167, -0.2628, -0.1535,  0.0806]]]],\n",
      "       grad_fn=<StackBackward>)\n"
     ]
    }
   ],
   "source": [
    "torch.manual_seed(12)\n",
    "\n",
    "# (input_size, hidden_size, layers)\n",
    "rnn = nn.LSTM(10, 20, 1)\n",
    "# (seq_len, batch, input_size)\n",
    "input = torch.randn(2, 3, 10)\n",
    "# (num_layers, batch, hidden_size)\n",
    "hx = torch.randn(1, 3, 20)\n",
    "cx = torch.randn(1, 3, 20)\n",
    "\n",
    "outputs = []\n",
    "for i in range(input.shape[0]):\n",
    "    \n",
    "        print(f\" \\n step {i} , Input : {input[i:i+1,:,:].shape}\")\n",
    "        print(f\" step {i} , hidden state : {hx.shape}\")\n",
    "        print(f\" step {i} , cell state : {cx.shape}\")\n",
    "\n",
    "        output, (hx, cx) = rnn(input[i:i+1,:,:], (hx, cx))\n",
    "        outputs.append(output)\n",
    "        \n",
    "outputs  = torch.stack(outputs, dim = 0)\n",
    "print(f\" \\n Output LSTM: \\n {outputs}\")"
   ]
  }
 ],
 "metadata": {
  "kernelspec": {
   "display_name": "Python 3",
   "language": "python",
   "name": "python3"
  },
  "language_info": {
   "codemirror_mode": {
    "name": "ipython",
    "version": 3
   },
   "file_extension": ".py",
   "mimetype": "text/x-python",
   "name": "python",
   "nbconvert_exporter": "python",
   "pygments_lexer": "ipython3",
   "version": "3.7.9"
  }
 },
 "nbformat": 4,
 "nbformat_minor": 4
}
